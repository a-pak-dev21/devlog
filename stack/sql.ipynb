{
 "cells": [
  {
   "cell_type": "markdown",
   "id": "de9b7473",
   "metadata": {},
   "source": [
    "# SQL basics"
   ]
  },
  {
   "cell_type": "markdown",
   "id": "8ee8bdbd",
   "metadata": {},
   "source": [
    "Database is a collection of data\n",
    "There is 2 types\n",
    "- **relational** - using columns and rows, common in transactional applications\n",
    "- **non-relational**\n",
    "Query is a request for data from database, performing different operations as:\n",
    "    ***CRUD*** - create, read, update, delete\n",
    "\n",
    "You can run database on your own computer or on server\n",
    "If you do it on server there is 2 types:\n",
    "1. On-Prem(company database)\n",
    "2. Serverless - Google, Amazon, etc.\n"
   ]
  },
  {
   "cell_type": "markdown",
   "id": "a209ba9a",
   "metadata": {},
   "source": [
    "**Fact Tables** - contains the core data for buisness analysis\n",
    "\n",
    "**Dimensions tables** - describe attributes or dimensions of the data"
   ]
  },
  {
   "cell_type": "markdown",
   "id": "4a8aa149",
   "metadata": {},
   "source": [
    "### SQLite - lightweight, file-based\n",
    "    ideal for small to medium applications(also zero configs, easy setup)\n",
    "    CASE - Insentive, means that commands can be written not necessary by capital letters \n",
    "\n",
    "### PostgresSQL - more advanced \n"
   ]
  },
  {
   "cell_type": "markdown",
   "id": "12a52ff5",
   "metadata": {},
   "source": [
    "# Main and Basic Keywords:\n",
    "\n",
    "## SELECT * / FROM\n",
    "    SELECT - identifies columns from db\n",
    "    FROM - which table we are connecting to\n",
    "    * - special character to select all columns \n",
    "\n",
    "## LIMIT\n",
    "    query only certain amount of rows. Useful since in real life projects we don't want to have all data(too much)\n",
    "    always goes as last part of statement\n",
    "\n",
    "## DISTINCT \n",
    "    get uniques rows and positioned right after SELECT\n",
    "        Isn't usually used for entire query\n",
    "\n",
    "## WHERE\n",
    "    sets a condition for the query\n",
    "    goes right after FROM \n",
    "\n",
    "## Comments\n",
    "    marks with '--' (two dashes) - single line comment\n",
    "    /*  */ - multi line comment\n",
    "\n",
    "## ORDER BY\n",
    "    sort the rows\n",
    "        default order ascending (smallest -> largest, A to Z)\n",
    "        NULL is the smallest if no values\n",
    "        mention DESC / ASC(by standard) to change order . Doing in same row where we choose the column by each to sort\n",
    "\n"
   ]
  },
  {
   "cell_type": "markdown",
   "id": "b7857e11",
   "metadata": {},
   "source": [
    "# Order to Write Commands\n",
    "- **SELECT** col1 col2,...\n",
    "- **FROM** table_name\n",
    "- **WHERE** condition\n",
    "- **GROUP BY** column\n",
    "- **HAVING** condition\n",
    "- **ORDER BY** col1 [ASC | DESC]\n",
    "- **LIMIT** number;"
   ]
  },
  {
   "cell_type": "markdown",
   "id": "9c8b153f",
   "metadata": {},
   "source": [
    "### Extra notes & features:\n",
    "- right orders is SELECT and after FROM otherwise doesn't work\n",
    "- LIMIT is last sql statement we are mentionning\n",
    "- \"**;**\" marks the end of SQL statement, in VS Code you can run and see results of multiple statements as well "
   ]
  },
  {
   "cell_type": "markdown",
   "id": "208eec63",
   "metadata": {},
   "source": [
    "# Comparisons\n",
    "Used within the **WHERE** or **HAVING** clause\n",
    "Comparison operators: classic =, <>, >=, <=, <,>\n",
    "\n",
    "Used in conjuction with logical operators:\n",
    "- *AND*, *OR*, *BETWEEN*, *IN*\n",
    "<> and NOT is equal and mean ***not equal to***\n",
    "\n",
    "**BETWEEN** - get values within range(including edges similar to <= and >=):\n",
    "- ex: instead of *salary >= 60 000 AND salary <= 80 000*\n",
    "    - do: *salary BETWEEN 60000 AND 80000*\n",
    "\n",
    "**IN** - to specify multiple values in a WHERE clause\n",
    "- in other words alternative to using multiple OR\n",
    "- before: job_place = 'Boston' OR job_place = 'Miami' OR ...\n",
    "    - After: job_place IN ('Boston', 'Prague', 'Miami')"
   ]
  },
  {
   "cell_type": "markdown",
   "id": "a95a3eef",
   "metadata": {},
   "source": []
  }
 ],
 "metadata": {
  "language_info": {
   "name": "python"
  }
 },
 "nbformat": 4,
 "nbformat_minor": 5
}
